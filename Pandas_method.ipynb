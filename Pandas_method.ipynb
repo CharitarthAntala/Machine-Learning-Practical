{
  "nbformat": 4,
  "nbformat_minor": 0,
  "metadata": {
    "colab": {
      "name": "Pandas_method.ipynb",
      "provenance": [],
      "collapsed_sections": [],
      "authorship_tag": "ABX9TyPBP4YIh2LzjlgDk00C6o27",
      "include_colab_link": true
    },
    "kernelspec": {
      "name": "python3",
      "display_name": "Python 3"
    },
    "language_info": {
      "name": "python"
    }
  },
  "cells": [
    {
      "cell_type": "markdown",
      "metadata": {
        "id": "view-in-github",
        "colab_type": "text"
      },
      "source": [
        "<a href=\"https://colab.research.google.com/github/CharitarthAntala/Machine-Learning-Practical/blob/main/Pandas_method.ipynb\" target=\"_parent\"><img src=\"https://colab.research.google.com/assets/colab-badge.svg\" alt=\"Open In Colab\"/></a>"
      ]
    },
    {
      "cell_type": "code",
      "metadata": {
        "id": "t4P8ys1W_Z88"
      },
      "source": [
        "import numpy as np #import numpy\n",
        "import pandas as pd #impory pandas\n",
        "import matplotlib.pyplot as plt \n",
        "import os "
      ],
      "execution_count": 1,
      "outputs": []
    },
    {
      "cell_type": "code",
      "metadata": {
        "colab": {
          "base_uri": "https://localhost:8080/"
        },
        "id": "dtLcrr76AQ-c",
        "outputId": "73043518-a978-4d94-c0c4-8e30faacc598"
      },
      "source": [
        "df=pd.read_csv('/content/IRIS.csv') #read the csv file of dataset\n",
        "print(df) #print dataset\n"
      ],
      "execution_count": 15,
      "outputs": [
        {
          "output_type": "stream",
          "text": [
            "     sepal_length  sepal_width  petal_length  petal_width         species\n",
            "0             5.1          3.5           1.4          0.2     Iris-setosa\n",
            "1             4.9          3.0           1.4          0.2     Iris-setosa\n",
            "2             4.7          3.2           1.3          0.2     Iris-setosa\n",
            "3             4.6          3.1           1.5          0.2     Iris-setosa\n",
            "4             5.0          3.6           1.4          0.2     Iris-setosa\n",
            "..            ...          ...           ...          ...             ...\n",
            "145           6.7          3.0           5.2          2.3  Iris-virginica\n",
            "146           6.3          2.5           5.0          1.9  Iris-virginica\n",
            "147           6.5          3.0           5.2          2.0  Iris-virginica\n",
            "148           6.2          3.4           5.4          2.3  Iris-virginica\n",
            "149           5.9          3.0           5.1          1.8  Iris-virginica\n",
            "\n",
            "[150 rows x 5 columns]\n"
          ],
          "name": "stdout"
        }
      ]
    },
    {
      "cell_type": "code",
      "metadata": {
        "colab": {
          "base_uri": "https://localhost:8080/",
          "height": 295
        },
        "id": "fVFhCzWpBFnm",
        "outputId": "e4be959f-6b51-4c67-e61f-90751afbf94c"
      },
      "source": [
        "df.describe() #show the statistic calculation"
      ],
      "execution_count": 3,
      "outputs": [
        {
          "output_type": "execute_result",
          "data": {
            "text/html": [
              "<div>\n",
              "<style scoped>\n",
              "    .dataframe tbody tr th:only-of-type {\n",
              "        vertical-align: middle;\n",
              "    }\n",
              "\n",
              "    .dataframe tbody tr th {\n",
              "        vertical-align: top;\n",
              "    }\n",
              "\n",
              "    .dataframe thead th {\n",
              "        text-align: right;\n",
              "    }\n",
              "</style>\n",
              "<table border=\"1\" class=\"dataframe\">\n",
              "  <thead>\n",
              "    <tr style=\"text-align: right;\">\n",
              "      <th></th>\n",
              "      <th>sepal_length</th>\n",
              "      <th>sepal_width</th>\n",
              "      <th>petal_length</th>\n",
              "      <th>petal_width</th>\n",
              "    </tr>\n",
              "  </thead>\n",
              "  <tbody>\n",
              "    <tr>\n",
              "      <th>count</th>\n",
              "      <td>150.000000</td>\n",
              "      <td>150.000000</td>\n",
              "      <td>150.000000</td>\n",
              "      <td>150.000000</td>\n",
              "    </tr>\n",
              "    <tr>\n",
              "      <th>mean</th>\n",
              "      <td>5.843333</td>\n",
              "      <td>3.054000</td>\n",
              "      <td>3.758667</td>\n",
              "      <td>1.198667</td>\n",
              "    </tr>\n",
              "    <tr>\n",
              "      <th>std</th>\n",
              "      <td>0.828066</td>\n",
              "      <td>0.433594</td>\n",
              "      <td>1.764420</td>\n",
              "      <td>0.763161</td>\n",
              "    </tr>\n",
              "    <tr>\n",
              "      <th>min</th>\n",
              "      <td>4.300000</td>\n",
              "      <td>2.000000</td>\n",
              "      <td>1.000000</td>\n",
              "      <td>0.100000</td>\n",
              "    </tr>\n",
              "    <tr>\n",
              "      <th>25%</th>\n",
              "      <td>5.100000</td>\n",
              "      <td>2.800000</td>\n",
              "      <td>1.600000</td>\n",
              "      <td>0.300000</td>\n",
              "    </tr>\n",
              "    <tr>\n",
              "      <th>50%</th>\n",
              "      <td>5.800000</td>\n",
              "      <td>3.000000</td>\n",
              "      <td>4.350000</td>\n",
              "      <td>1.300000</td>\n",
              "    </tr>\n",
              "    <tr>\n",
              "      <th>75%</th>\n",
              "      <td>6.400000</td>\n",
              "      <td>3.300000</td>\n",
              "      <td>5.100000</td>\n",
              "      <td>1.800000</td>\n",
              "    </tr>\n",
              "    <tr>\n",
              "      <th>max</th>\n",
              "      <td>7.900000</td>\n",
              "      <td>4.400000</td>\n",
              "      <td>6.900000</td>\n",
              "      <td>2.500000</td>\n",
              "    </tr>\n",
              "  </tbody>\n",
              "</table>\n",
              "</div>"
            ],
            "text/plain": [
              "       sepal_length  sepal_width  petal_length  petal_width\n",
              "count    150.000000   150.000000    150.000000   150.000000\n",
              "mean       5.843333     3.054000      3.758667     1.198667\n",
              "std        0.828066     0.433594      1.764420     0.763161\n",
              "min        4.300000     2.000000      1.000000     0.100000\n",
              "25%        5.100000     2.800000      1.600000     0.300000\n",
              "50%        5.800000     3.000000      4.350000     1.300000\n",
              "75%        6.400000     3.300000      5.100000     1.800000\n",
              "max        7.900000     4.400000      6.900000     2.500000"
            ]
          },
          "metadata": {
            "tags": []
          },
          "execution_count": 3
        }
      ]
    },
    {
      "cell_type": "code",
      "metadata": {
        "colab": {
          "base_uri": "https://localhost:8080/"
        },
        "id": "6Q-75IxyDGif",
        "outputId": "1f367d00-7b96-4fe4-80fc-c48ea25432be"
      },
      "source": [
        "df.info() #Show the null values"
      ],
      "execution_count": 4,
      "outputs": [
        {
          "output_type": "stream",
          "text": [
            "<class 'pandas.core.frame.DataFrame'>\n",
            "RangeIndex: 150 entries, 0 to 149\n",
            "Data columns (total 5 columns):\n",
            " #   Column        Non-Null Count  Dtype  \n",
            "---  ------        --------------  -----  \n",
            " 0   sepal_length  150 non-null    float64\n",
            " 1   sepal_width   150 non-null    float64\n",
            " 2   petal_length  150 non-null    float64\n",
            " 3   petal_width   150 non-null    float64\n",
            " 4   species       150 non-null    object \n",
            "dtypes: float64(4), object(1)\n",
            "memory usage: 6.0+ KB\n"
          ],
          "name": "stdout"
        }
      ]
    },
    {
      "cell_type": "code",
      "metadata": {
        "colab": {
          "base_uri": "https://localhost:8080/",
          "height": 203
        },
        "id": "WGa2zxI0D2_j",
        "outputId": "c844a10b-0814-405d-f7b9-900f8cc627fc"
      },
      "source": [
        "df.head() #display only first 5 record of dataset\n",
        "df.head(10) #display first 10 record "
      ],
      "execution_count": 5,
      "outputs": [
        {
          "output_type": "execute_result",
          "data": {
            "text/html": [
              "<div>\n",
              "<style scoped>\n",
              "    .dataframe tbody tr th:only-of-type {\n",
              "        vertical-align: middle;\n",
              "    }\n",
              "\n",
              "    .dataframe tbody tr th {\n",
              "        vertical-align: top;\n",
              "    }\n",
              "\n",
              "    .dataframe thead th {\n",
              "        text-align: right;\n",
              "    }\n",
              "</style>\n",
              "<table border=\"1\" class=\"dataframe\">\n",
              "  <thead>\n",
              "    <tr style=\"text-align: right;\">\n",
              "      <th></th>\n",
              "      <th>sepal_length</th>\n",
              "      <th>sepal_width</th>\n",
              "      <th>petal_length</th>\n",
              "      <th>petal_width</th>\n",
              "      <th>species</th>\n",
              "    </tr>\n",
              "  </thead>\n",
              "  <tbody>\n",
              "    <tr>\n",
              "      <th>0</th>\n",
              "      <td>5.1</td>\n",
              "      <td>3.5</td>\n",
              "      <td>1.4</td>\n",
              "      <td>0.2</td>\n",
              "      <td>Iris-setosa</td>\n",
              "    </tr>\n",
              "    <tr>\n",
              "      <th>1</th>\n",
              "      <td>4.9</td>\n",
              "      <td>3.0</td>\n",
              "      <td>1.4</td>\n",
              "      <td>0.2</td>\n",
              "      <td>Iris-setosa</td>\n",
              "    </tr>\n",
              "    <tr>\n",
              "      <th>2</th>\n",
              "      <td>4.7</td>\n",
              "      <td>3.2</td>\n",
              "      <td>1.3</td>\n",
              "      <td>0.2</td>\n",
              "      <td>Iris-setosa</td>\n",
              "    </tr>\n",
              "    <tr>\n",
              "      <th>3</th>\n",
              "      <td>4.6</td>\n",
              "      <td>3.1</td>\n",
              "      <td>1.5</td>\n",
              "      <td>0.2</td>\n",
              "      <td>Iris-setosa</td>\n",
              "    </tr>\n",
              "    <tr>\n",
              "      <th>4</th>\n",
              "      <td>5.0</td>\n",
              "      <td>3.6</td>\n",
              "      <td>1.4</td>\n",
              "      <td>0.2</td>\n",
              "      <td>Iris-setosa</td>\n",
              "    </tr>\n",
              "  </tbody>\n",
              "</table>\n",
              "</div>"
            ],
            "text/plain": [
              "   sepal_length  sepal_width  petal_length  petal_width      species\n",
              "0           5.1          3.5           1.4          0.2  Iris-setosa\n",
              "1           4.9          3.0           1.4          0.2  Iris-setosa\n",
              "2           4.7          3.2           1.3          0.2  Iris-setosa\n",
              "3           4.6          3.1           1.5          0.2  Iris-setosa\n",
              "4           5.0          3.6           1.4          0.2  Iris-setosa"
            ]
          },
          "metadata": {
            "tags": []
          },
          "execution_count": 5
        }
      ]
    },
    {
      "cell_type": "code",
      "metadata": {
        "colab": {
          "base_uri": "https://localhost:8080/",
          "height": 203
        },
        "id": "YgzYdudcD6Be",
        "outputId": "89ce6882-9e85-431b-aa47-beb65638b619"
      },
      "source": [
        "df.tail() #display last 5 record of dataset\n",
        "df.tail(10) #display last 10 record"
      ],
      "execution_count": 6,
      "outputs": [
        {
          "output_type": "execute_result",
          "data": {
            "text/html": [
              "<div>\n",
              "<style scoped>\n",
              "    .dataframe tbody tr th:only-of-type {\n",
              "        vertical-align: middle;\n",
              "    }\n",
              "\n",
              "    .dataframe tbody tr th {\n",
              "        vertical-align: top;\n",
              "    }\n",
              "\n",
              "    .dataframe thead th {\n",
              "        text-align: right;\n",
              "    }\n",
              "</style>\n",
              "<table border=\"1\" class=\"dataframe\">\n",
              "  <thead>\n",
              "    <tr style=\"text-align: right;\">\n",
              "      <th></th>\n",
              "      <th>sepal_length</th>\n",
              "      <th>sepal_width</th>\n",
              "      <th>petal_length</th>\n",
              "      <th>petal_width</th>\n",
              "      <th>species</th>\n",
              "    </tr>\n",
              "  </thead>\n",
              "  <tbody>\n",
              "    <tr>\n",
              "      <th>145</th>\n",
              "      <td>6.7</td>\n",
              "      <td>3.0</td>\n",
              "      <td>5.2</td>\n",
              "      <td>2.3</td>\n",
              "      <td>Iris-virginica</td>\n",
              "    </tr>\n",
              "    <tr>\n",
              "      <th>146</th>\n",
              "      <td>6.3</td>\n",
              "      <td>2.5</td>\n",
              "      <td>5.0</td>\n",
              "      <td>1.9</td>\n",
              "      <td>Iris-virginica</td>\n",
              "    </tr>\n",
              "    <tr>\n",
              "      <th>147</th>\n",
              "      <td>6.5</td>\n",
              "      <td>3.0</td>\n",
              "      <td>5.2</td>\n",
              "      <td>2.0</td>\n",
              "      <td>Iris-virginica</td>\n",
              "    </tr>\n",
              "    <tr>\n",
              "      <th>148</th>\n",
              "      <td>6.2</td>\n",
              "      <td>3.4</td>\n",
              "      <td>5.4</td>\n",
              "      <td>2.3</td>\n",
              "      <td>Iris-virginica</td>\n",
              "    </tr>\n",
              "    <tr>\n",
              "      <th>149</th>\n",
              "      <td>5.9</td>\n",
              "      <td>3.0</td>\n",
              "      <td>5.1</td>\n",
              "      <td>1.8</td>\n",
              "      <td>Iris-virginica</td>\n",
              "    </tr>\n",
              "  </tbody>\n",
              "</table>\n",
              "</div>"
            ],
            "text/plain": [
              "     sepal_length  sepal_width  petal_length  petal_width         species\n",
              "145           6.7          3.0           5.2          2.3  Iris-virginica\n",
              "146           6.3          2.5           5.0          1.9  Iris-virginica\n",
              "147           6.5          3.0           5.2          2.0  Iris-virginica\n",
              "148           6.2          3.4           5.4          2.3  Iris-virginica\n",
              "149           5.9          3.0           5.1          1.8  Iris-virginica"
            ]
          },
          "metadata": {
            "tags": []
          },
          "execution_count": 6
        }
      ]
    },
    {
      "cell_type": "code",
      "metadata": {
        "colab": {
          "base_uri": "https://localhost:8080/"
        },
        "id": "7BbsSBjkD_um",
        "outputId": "99df10b1-e105-4a3b-f59b-d12ca67732c4"
      },
      "source": [
        "print(df['sepal_length']) #display particular column\n",
        "print(df['sepal_length'][1:10]) #display first 10 row\n",
        "print(df[['sepal_length','petal_length']]) #display 2 column data"
      ],
      "execution_count": 11,
      "outputs": [
        {
          "output_type": "stream",
          "text": [
            "0      5.1\n",
            "1      4.9\n",
            "2      4.7\n",
            "3      4.6\n",
            "4      5.0\n",
            "      ... \n",
            "145    6.7\n",
            "146    6.3\n",
            "147    6.5\n",
            "148    6.2\n",
            "149    5.9\n",
            "Name: sepal_length, Length: 150, dtype: float64\n",
            "1    4.9\n",
            "2    4.7\n",
            "3    4.6\n",
            "4    5.0\n",
            "5    5.4\n",
            "6    4.6\n",
            "7    5.0\n",
            "8    4.4\n",
            "9    4.9\n",
            "Name: sepal_length, dtype: float64\n",
            "     sepal_length  petal_length\n",
            "0             5.1           1.4\n",
            "1             4.9           1.4\n",
            "2             4.7           1.3\n",
            "3             4.6           1.5\n",
            "4             5.0           1.4\n",
            "..            ...           ...\n",
            "145           6.7           5.2\n",
            "146           6.3           5.0\n",
            "147           6.5           5.2\n",
            "148           6.2           5.4\n",
            "149           5.9           5.1\n",
            "\n",
            "[150 rows x 2 columns]\n"
          ],
          "name": "stdout"
        }
      ]
    },
    {
      "cell_type": "code",
      "metadata": {
        "colab": {
          "base_uri": "https://localhost:8080/"
        },
        "id": "iilmfA7bFJ3G",
        "outputId": "2e0bdd16-fafc-4f93-9c2f-c3d75acf0cd3"
      },
      "source": [
        "print(df['sepal_length'].median()) #display particular calculation for column\n",
        "print(df[:].min(),df[:].max()) #display 2 calculation for all columns"
      ],
      "execution_count": 15,
      "outputs": [
        {
          "output_type": "stream",
          "text": [
            "5.8\n",
            "sepal_length            4.3\n",
            "sepal_width               2\n",
            "petal_length              1\n",
            "petal_width             0.1\n",
            "species         Iris-setosa\n",
            "dtype: object sepal_length               7.9\n",
            "sepal_width                4.4\n",
            "petal_length               6.9\n",
            "petal_width                2.5\n",
            "species         Iris-virginica\n",
            "dtype: object\n"
          ],
          "name": "stdout"
        }
      ]
    },
    {
      "cell_type": "code",
      "metadata": {
        "colab": {
          "base_uri": "https://localhost:8080/"
        },
        "id": "ngj8vwShHwnf",
        "outputId": "ba214747-db51-4502-9a40-3f6934bbc8b4"
      },
      "source": [
        "print(df[df['sepal_length']<5.0].count()) #condition checkin"
      ],
      "execution_count": 7,
      "outputs": [
        {
          "output_type": "stream",
          "text": [
            "sepal_length    22\n",
            "sepal_width     22\n",
            "petal_length    22\n",
            "petal_width     22\n",
            "species         22\n",
            "dtype: int64\n"
          ],
          "name": "stdout"
        }
      ]
    },
    {
      "cell_type": "code",
      "metadata": {
        "colab": {
          "base_uri": "https://localhost:8080/"
        },
        "id": "oNvzs2f9Ij8e",
        "outputId": "9d72576e-6f0e-4496-aebb-baa30cbf7af4"
      },
      "source": [
        "print(df['species'].unique())"
      ],
      "execution_count": 8,
      "outputs": [
        {
          "output_type": "stream",
          "text": [
            "['Iris-setosa' 'Iris-versicolor' 'Iris-virginica']\n"
          ],
          "name": "stdout"
        }
      ]
    },
    {
      "cell_type": "code",
      "metadata": {
        "colab": {
          "base_uri": "https://localhost:8080/"
        },
        "id": "2O17ahRLI_s_",
        "outputId": "c6f3cf64-9939-4e1b-f6f7-b33a27f03f3d"
      },
      "source": [
        "print(df['species'].isnull().count())"
      ],
      "execution_count": 19,
      "outputs": [
        {
          "output_type": "stream",
          "text": [
            "150\n"
          ],
          "name": "stdout"
        }
      ]
    },
    {
      "cell_type": "markdown",
      "metadata": {
        "id": "1_39TqEiMJQx"
      },
      "source": [
        "## **Netflix TV Show**"
      ]
    },
    {
      "cell_type": "code",
      "metadata": {
        "colab": {
          "base_uri": "https://localhost:8080/"
        },
        "id": "uAZ5WJ8zLEvA",
        "outputId": "530e89e7-a45f-4eb5-bdf2-4c00871922c8"
      },
      "source": [
        "df=pd.read_csv('/content/TV Shows - Netflix.csv')\n",
        "print(df)"
      ],
      "execution_count": 4,
      "outputs": [
        {
          "output_type": "stream",
          "text": [
            "                               Titles  Year Rating  IMDB_Rating  Netflix\n",
            "0                        Breaking Bad  2008    18+          9.5        1\n",
            "1                     Game of Thrones  2011    18+          9.3        0\n",
            "2                      Rick and Morty  2013    18+          9.2        0\n",
            "3                                Dark  2017    16+          8.8        1\n",
            "4                     Stranger Things  2016    16+          8.8        1\n",
            "5          Avatar: The Last Airbender  2005     7+          9.2        1\n",
            "6                            Sherlock  2010    16+          9.1        1\n",
            "7                           Chernobyl  2019    18+          9.4        0\n",
            "8                             Friends  1994    16+          8.9        0\n",
            "9                          The Office  2005    16+          8.9        1\n",
            "10                   Better Call Saul  2015    18+          8.7        1\n",
            "11                           The Wire  2002    18+          9.3        0\n",
            "12                       Supernatural  2005    16+          8.4        0\n",
            "13                              Fargo  2014    18+          8.9        0\n",
            "14                       Black Mirror  2011    18+          8.8        1\n",
            "15                   Band of Brothers  2001    18+          9.4        0\n",
            "16                    Attack on Titan  2013    16+          8.8        0\n",
            "17                              House  2004    16+          8.7        0\n",
            "18                        Money Heist  2017    18+          8.4        1\n",
            "19                     Peaky Blinders  2013    18+          8.8        1\n",
            "20                          Mr. Robot  2015    18+          8.5        0\n",
            "21                            Vikings  2013    18+          8.5        0\n",
            "22                       The Sopranos  1999    18+          9.2        0\n",
            "23                       The Simpsons  1989     7+          8.7        0\n",
            "24                    The Mandalorian  2019     7+          8.7        0\n",
            "25                               Lost  2004    16+          8.3        0\n",
            "26                          Westworld  2016    18+          8.7        0\n",
            "27               The Umbrella Academy  2019    16+          8.0        1\n",
            "28                             Narcos  2015    18+          8.8        1\n",
            "29                     True Detective  2014    18+          9.0        0\n",
            "30                 Marvel's Daredevil  2015    18+          8.6        1\n",
            "31                 Brooklyn Nine-Nine  2013    16+          8.4        0\n",
            "32                   The Walking Dead  2010    18+          8.2        1\n",
            "33               Parks and Recreation  2009    16+          8.6        0\n",
            "34                         Mindhunter  2017    18+          8.6        1\n",
            "35                         South Park  1997    18+          8.7        0\n",
            "36                              Suits  2011    16+          8.5        0\n",
            "37                           Hannibal  2013    18+          8.5        1\n",
            "38                             Dexter  2006    18+          8.6        0\n",
            "39                          Community  2009     7+          8.5        0\n",
            "40                             Fringe  2008    16+          8.4        0\n",
            "41                      Modern Family  2009    16+          8.4        0\n",
            "42                The Big Bang Theory  2007    16+          8.1        0\n",
            "43                            Firefly  2002    16+          9.0        0\n",
            "44                            Mad Men  2007    16+          8.6        0\n",
            "45   Fullmetal Alchemist: Brotherhood  2009    18+          9.1        0\n",
            "46                              Ozark  2017    18+          8.4        1\n",
            "47                        The Witcher  2019    18+          8.2        1\n",
            "48                            Lucifer  2016    16+          8.2        1\n",
            "49  It's Always Sunny in Philadelphia  2005    18+          8.8        0\n"
          ],
          "name": "stdout"
        }
      ]
    },
    {
      "cell_type": "code",
      "metadata": {
        "colab": {
          "base_uri": "https://localhost:8080/",
          "height": 295
        },
        "id": "mc-NP3hWMHKM",
        "outputId": "8944c0e3-8e32-476c-ecde-ed9b41674d4f"
      },
      "source": [
        "df.describe()"
      ],
      "execution_count": 5,
      "outputs": [
        {
          "output_type": "execute_result",
          "data": {
            "text/html": [
              "<div>\n",
              "<style scoped>\n",
              "    .dataframe tbody tr th:only-of-type {\n",
              "        vertical-align: middle;\n",
              "    }\n",
              "\n",
              "    .dataframe tbody tr th {\n",
              "        vertical-align: top;\n",
              "    }\n",
              "\n",
              "    .dataframe thead th {\n",
              "        text-align: right;\n",
              "    }\n",
              "</style>\n",
              "<table border=\"1\" class=\"dataframe\">\n",
              "  <thead>\n",
              "    <tr style=\"text-align: right;\">\n",
              "      <th></th>\n",
              "      <th>Year</th>\n",
              "      <th>IMDB_Rating</th>\n",
              "      <th>Netflix</th>\n",
              "    </tr>\n",
              "  </thead>\n",
              "  <tbody>\n",
              "    <tr>\n",
              "      <th>count</th>\n",
              "      <td>50.000000</td>\n",
              "      <td>50.000000</td>\n",
              "      <td>50.000000</td>\n",
              "    </tr>\n",
              "    <tr>\n",
              "      <th>mean</th>\n",
              "      <td>2009.900000</td>\n",
              "      <td>8.722000</td>\n",
              "      <td>0.380000</td>\n",
              "    </tr>\n",
              "    <tr>\n",
              "      <th>std</th>\n",
              "      <td>6.746881</td>\n",
              "      <td>0.358734</td>\n",
              "      <td>0.490314</td>\n",
              "    </tr>\n",
              "    <tr>\n",
              "      <th>min</th>\n",
              "      <td>1989.000000</td>\n",
              "      <td>8.000000</td>\n",
              "      <td>0.000000</td>\n",
              "    </tr>\n",
              "    <tr>\n",
              "      <th>25%</th>\n",
              "      <td>2005.250000</td>\n",
              "      <td>8.500000</td>\n",
              "      <td>0.000000</td>\n",
              "    </tr>\n",
              "    <tr>\n",
              "      <th>50%</th>\n",
              "      <td>2011.000000</td>\n",
              "      <td>8.700000</td>\n",
              "      <td>0.000000</td>\n",
              "    </tr>\n",
              "    <tr>\n",
              "      <th>75%</th>\n",
              "      <td>2015.000000</td>\n",
              "      <td>8.900000</td>\n",
              "      <td>1.000000</td>\n",
              "    </tr>\n",
              "    <tr>\n",
              "      <th>max</th>\n",
              "      <td>2019.000000</td>\n",
              "      <td>9.500000</td>\n",
              "      <td>1.000000</td>\n",
              "    </tr>\n",
              "  </tbody>\n",
              "</table>\n",
              "</div>"
            ],
            "text/plain": [
              "              Year  IMDB_Rating    Netflix\n",
              "count    50.000000    50.000000  50.000000\n",
              "mean   2009.900000     8.722000   0.380000\n",
              "std       6.746881     0.358734   0.490314\n",
              "min    1989.000000     8.000000   0.000000\n",
              "25%    2005.250000     8.500000   0.000000\n",
              "50%    2011.000000     8.700000   0.000000\n",
              "75%    2015.000000     8.900000   1.000000\n",
              "max    2019.000000     9.500000   1.000000"
            ]
          },
          "metadata": {
            "tags": []
          },
          "execution_count": 5
        }
      ]
    },
    {
      "cell_type": "code",
      "metadata": {
        "colab": {
          "base_uri": "https://localhost:8080/"
        },
        "id": "QmnTe0YbMkG2",
        "outputId": "3b9e8cc7-9194-47c1-a299-5f5e6ded1e60"
      },
      "source": [
        "df.info()"
      ],
      "execution_count": 6,
      "outputs": [
        {
          "output_type": "stream",
          "text": [
            "<class 'pandas.core.frame.DataFrame'>\n",
            "RangeIndex: 50 entries, 0 to 49\n",
            "Data columns (total 5 columns):\n",
            " #   Column       Non-Null Count  Dtype  \n",
            "---  ------       --------------  -----  \n",
            " 0   Titles       50 non-null     object \n",
            " 1   Year         50 non-null     int64  \n",
            " 2   Rating       50 non-null     object \n",
            " 3   IMDB_Rating  50 non-null     float64\n",
            " 4   Netflix      50 non-null     int64  \n",
            "dtypes: float64(1), int64(2), object(2)\n",
            "memory usage: 2.1+ KB\n"
          ],
          "name": "stdout"
        }
      ]
    },
    {
      "cell_type": "code",
      "metadata": {
        "colab": {
          "base_uri": "https://localhost:8080/"
        },
        "id": "uKh3T61eMlwg",
        "outputId": "8aab72a9-ead2-4012-e9d6-263689af1668"
      },
      "source": [
        "print(df[df.isnull()].count())"
      ],
      "execution_count": 8,
      "outputs": [
        {
          "output_type": "stream",
          "text": [
            "Titles         0\n",
            "Year           0\n",
            "Rating         0\n",
            "IMDB_Rating    0\n",
            "Netflix        0\n",
            "dtype: int64\n"
          ],
          "name": "stdout"
        }
      ]
    },
    {
      "cell_type": "code",
      "metadata": {
        "colab": {
          "base_uri": "https://localhost:8080/",
          "height": 973
        },
        "id": "uYTifvn1PX8l",
        "outputId": "92ba5c2f-4160-405c-863a-a8404832875c"
      },
      "source": [
        "df[df['Year'].duplicated()]"
      ],
      "execution_count": 20,
      "outputs": [
        {
          "output_type": "execute_result",
          "data": {
            "text/html": [
              "<div>\n",
              "<style scoped>\n",
              "    .dataframe tbody tr th:only-of-type {\n",
              "        vertical-align: middle;\n",
              "    }\n",
              "\n",
              "    .dataframe tbody tr th {\n",
              "        vertical-align: top;\n",
              "    }\n",
              "\n",
              "    .dataframe thead th {\n",
              "        text-align: right;\n",
              "    }\n",
              "</style>\n",
              "<table border=\"1\" class=\"dataframe\">\n",
              "  <thead>\n",
              "    <tr style=\"text-align: right;\">\n",
              "      <th></th>\n",
              "      <th>Titles</th>\n",
              "      <th>Year</th>\n",
              "      <th>Rating</th>\n",
              "      <th>IMDB_Rating</th>\n",
              "      <th>Netflix</th>\n",
              "    </tr>\n",
              "  </thead>\n",
              "  <tbody>\n",
              "    <tr>\n",
              "      <th>9</th>\n",
              "      <td>The Office</td>\n",
              "      <td>2005</td>\n",
              "      <td>16+</td>\n",
              "      <td>8.9</td>\n",
              "      <td>1</td>\n",
              "    </tr>\n",
              "    <tr>\n",
              "      <th>12</th>\n",
              "      <td>Supernatural</td>\n",
              "      <td>2005</td>\n",
              "      <td>16+</td>\n",
              "      <td>8.4</td>\n",
              "      <td>0</td>\n",
              "    </tr>\n",
              "    <tr>\n",
              "      <th>14</th>\n",
              "      <td>Black Mirror</td>\n",
              "      <td>2011</td>\n",
              "      <td>18+</td>\n",
              "      <td>8.8</td>\n",
              "      <td>1</td>\n",
              "    </tr>\n",
              "    <tr>\n",
              "      <th>16</th>\n",
              "      <td>Attack on Titan</td>\n",
              "      <td>2013</td>\n",
              "      <td>16+</td>\n",
              "      <td>8.8</td>\n",
              "      <td>0</td>\n",
              "    </tr>\n",
              "    <tr>\n",
              "      <th>18</th>\n",
              "      <td>Money Heist</td>\n",
              "      <td>2017</td>\n",
              "      <td>18+</td>\n",
              "      <td>8.4</td>\n",
              "      <td>1</td>\n",
              "    </tr>\n",
              "    <tr>\n",
              "      <th>19</th>\n",
              "      <td>Peaky Blinders</td>\n",
              "      <td>2013</td>\n",
              "      <td>18+</td>\n",
              "      <td>8.8</td>\n",
              "      <td>1</td>\n",
              "    </tr>\n",
              "    <tr>\n",
              "      <th>20</th>\n",
              "      <td>Mr. Robot</td>\n",
              "      <td>2015</td>\n",
              "      <td>18+</td>\n",
              "      <td>8.5</td>\n",
              "      <td>0</td>\n",
              "    </tr>\n",
              "    <tr>\n",
              "      <th>21</th>\n",
              "      <td>Vikings</td>\n",
              "      <td>2013</td>\n",
              "      <td>18+</td>\n",
              "      <td>8.5</td>\n",
              "      <td>0</td>\n",
              "    </tr>\n",
              "    <tr>\n",
              "      <th>24</th>\n",
              "      <td>The Mandalorian</td>\n",
              "      <td>2019</td>\n",
              "      <td>7+</td>\n",
              "      <td>8.7</td>\n",
              "      <td>0</td>\n",
              "    </tr>\n",
              "    <tr>\n",
              "      <th>25</th>\n",
              "      <td>Lost</td>\n",
              "      <td>2004</td>\n",
              "      <td>16+</td>\n",
              "      <td>8.3</td>\n",
              "      <td>0</td>\n",
              "    </tr>\n",
              "    <tr>\n",
              "      <th>26</th>\n",
              "      <td>Westworld</td>\n",
              "      <td>2016</td>\n",
              "      <td>18+</td>\n",
              "      <td>8.7</td>\n",
              "      <td>0</td>\n",
              "    </tr>\n",
              "    <tr>\n",
              "      <th>27</th>\n",
              "      <td>The Umbrella Academy</td>\n",
              "      <td>2019</td>\n",
              "      <td>16+</td>\n",
              "      <td>8.0</td>\n",
              "      <td>1</td>\n",
              "    </tr>\n",
              "    <tr>\n",
              "      <th>28</th>\n",
              "      <td>Narcos</td>\n",
              "      <td>2015</td>\n",
              "      <td>18+</td>\n",
              "      <td>8.8</td>\n",
              "      <td>1</td>\n",
              "    </tr>\n",
              "    <tr>\n",
              "      <th>29</th>\n",
              "      <td>True Detective</td>\n",
              "      <td>2014</td>\n",
              "      <td>18+</td>\n",
              "      <td>9.0</td>\n",
              "      <td>0</td>\n",
              "    </tr>\n",
              "    <tr>\n",
              "      <th>30</th>\n",
              "      <td>Marvel's Daredevil</td>\n",
              "      <td>2015</td>\n",
              "      <td>18+</td>\n",
              "      <td>8.6</td>\n",
              "      <td>1</td>\n",
              "    </tr>\n",
              "    <tr>\n",
              "      <th>31</th>\n",
              "      <td>Brooklyn Nine-Nine</td>\n",
              "      <td>2013</td>\n",
              "      <td>16+</td>\n",
              "      <td>8.4</td>\n",
              "      <td>0</td>\n",
              "    </tr>\n",
              "    <tr>\n",
              "      <th>32</th>\n",
              "      <td>The Walking Dead</td>\n",
              "      <td>2010</td>\n",
              "      <td>18+</td>\n",
              "      <td>8.2</td>\n",
              "      <td>1</td>\n",
              "    </tr>\n",
              "    <tr>\n",
              "      <th>34</th>\n",
              "      <td>Mindhunter</td>\n",
              "      <td>2017</td>\n",
              "      <td>18+</td>\n",
              "      <td>8.6</td>\n",
              "      <td>1</td>\n",
              "    </tr>\n",
              "    <tr>\n",
              "      <th>36</th>\n",
              "      <td>Suits</td>\n",
              "      <td>2011</td>\n",
              "      <td>16+</td>\n",
              "      <td>8.5</td>\n",
              "      <td>0</td>\n",
              "    </tr>\n",
              "    <tr>\n",
              "      <th>37</th>\n",
              "      <td>Hannibal</td>\n",
              "      <td>2013</td>\n",
              "      <td>18+</td>\n",
              "      <td>8.5</td>\n",
              "      <td>1</td>\n",
              "    </tr>\n",
              "    <tr>\n",
              "      <th>39</th>\n",
              "      <td>Community</td>\n",
              "      <td>2009</td>\n",
              "      <td>7+</td>\n",
              "      <td>8.5</td>\n",
              "      <td>0</td>\n",
              "    </tr>\n",
              "    <tr>\n",
              "      <th>40</th>\n",
              "      <td>Fringe</td>\n",
              "      <td>2008</td>\n",
              "      <td>16+</td>\n",
              "      <td>8.4</td>\n",
              "      <td>0</td>\n",
              "    </tr>\n",
              "    <tr>\n",
              "      <th>41</th>\n",
              "      <td>Modern Family</td>\n",
              "      <td>2009</td>\n",
              "      <td>16+</td>\n",
              "      <td>8.4</td>\n",
              "      <td>0</td>\n",
              "    </tr>\n",
              "    <tr>\n",
              "      <th>43</th>\n",
              "      <td>Firefly</td>\n",
              "      <td>2002</td>\n",
              "      <td>16+</td>\n",
              "      <td>9.0</td>\n",
              "      <td>0</td>\n",
              "    </tr>\n",
              "    <tr>\n",
              "      <th>44</th>\n",
              "      <td>Mad Men</td>\n",
              "      <td>2007</td>\n",
              "      <td>16+</td>\n",
              "      <td>8.6</td>\n",
              "      <td>0</td>\n",
              "    </tr>\n",
              "    <tr>\n",
              "      <th>45</th>\n",
              "      <td>Fullmetal Alchemist: Brotherhood</td>\n",
              "      <td>2009</td>\n",
              "      <td>18+</td>\n",
              "      <td>9.1</td>\n",
              "      <td>0</td>\n",
              "    </tr>\n",
              "    <tr>\n",
              "      <th>46</th>\n",
              "      <td>Ozark</td>\n",
              "      <td>2017</td>\n",
              "      <td>18+</td>\n",
              "      <td>8.4</td>\n",
              "      <td>1</td>\n",
              "    </tr>\n",
              "    <tr>\n",
              "      <th>47</th>\n",
              "      <td>The Witcher</td>\n",
              "      <td>2019</td>\n",
              "      <td>18+</td>\n",
              "      <td>8.2</td>\n",
              "      <td>1</td>\n",
              "    </tr>\n",
              "    <tr>\n",
              "      <th>48</th>\n",
              "      <td>Lucifer</td>\n",
              "      <td>2016</td>\n",
              "      <td>16+</td>\n",
              "      <td>8.2</td>\n",
              "      <td>1</td>\n",
              "    </tr>\n",
              "    <tr>\n",
              "      <th>49</th>\n",
              "      <td>It's Always Sunny in Philadelphia</td>\n",
              "      <td>2005</td>\n",
              "      <td>18+</td>\n",
              "      <td>8.8</td>\n",
              "      <td>0</td>\n",
              "    </tr>\n",
              "  </tbody>\n",
              "</table>\n",
              "</div>"
            ],
            "text/plain": [
              "                               Titles  Year Rating  IMDB_Rating  Netflix\n",
              "9                          The Office  2005    16+          8.9        1\n",
              "12                       Supernatural  2005    16+          8.4        0\n",
              "14                       Black Mirror  2011    18+          8.8        1\n",
              "16                    Attack on Titan  2013    16+          8.8        0\n",
              "18                        Money Heist  2017    18+          8.4        1\n",
              "19                     Peaky Blinders  2013    18+          8.8        1\n",
              "20                          Mr. Robot  2015    18+          8.5        0\n",
              "21                            Vikings  2013    18+          8.5        0\n",
              "24                    The Mandalorian  2019     7+          8.7        0\n",
              "25                               Lost  2004    16+          8.3        0\n",
              "26                          Westworld  2016    18+          8.7        0\n",
              "27               The Umbrella Academy  2019    16+          8.0        1\n",
              "28                             Narcos  2015    18+          8.8        1\n",
              "29                     True Detective  2014    18+          9.0        0\n",
              "30                 Marvel's Daredevil  2015    18+          8.6        1\n",
              "31                 Brooklyn Nine-Nine  2013    16+          8.4        0\n",
              "32                   The Walking Dead  2010    18+          8.2        1\n",
              "34                         Mindhunter  2017    18+          8.6        1\n",
              "36                              Suits  2011    16+          8.5        0\n",
              "37                           Hannibal  2013    18+          8.5        1\n",
              "39                          Community  2009     7+          8.5        0\n",
              "40                             Fringe  2008    16+          8.4        0\n",
              "41                      Modern Family  2009    16+          8.4        0\n",
              "43                            Firefly  2002    16+          9.0        0\n",
              "44                            Mad Men  2007    16+          8.6        0\n",
              "45   Fullmetal Alchemist: Brotherhood  2009    18+          9.1        0\n",
              "46                              Ozark  2017    18+          8.4        1\n",
              "47                        The Witcher  2019    18+          8.2        1\n",
              "48                            Lucifer  2016    16+          8.2        1\n",
              "49  It's Always Sunny in Philadelphia  2005    18+          8.8        0"
            ]
          },
          "metadata": {
            "tags": []
          },
          "execution_count": 20
        }
      ]
    },
    {
      "cell_type": "code",
      "metadata": {
        "colab": {
          "base_uri": "https://localhost:8080/"
        },
        "id": "59-p05owM7Fe",
        "outputId": "de4ec55b-bc2b-480b-85c0-ac2b804fed88"
      },
      "source": [
        "print(df[df['Year']==2017])\n",
        "print(df[df['Netflix']==1].count())\n",
        "df[df[\"Year\"] == 2017]['Titles'].count() #print single count number\n",
        "df.groupby(\"Year\", sort=False)['Year'].count()\n",
        "df.groupby(\"Year\", sort=False)['IMDB_Rating'].mean()\n"
      ],
      "execution_count": 19,
      "outputs": [
        {
          "output_type": "stream",
          "text": [
            "         Titles  Year Rating  IMDB_Rating  Netflix\n",
            "3          Dark  2017    16+          8.8        1\n",
            "18  Money Heist  2017    18+          8.4        1\n",
            "34   Mindhunter  2017    18+          8.6        1\n",
            "46        Ozark  2017    18+          8.4        1\n",
            "Titles         19\n",
            "Year           19\n",
            "Rating         19\n",
            "IMDB_Rating    19\n",
            "Netflix        19\n",
            "dtype: int64\n"
          ],
          "name": "stdout"
        },
        {
          "output_type": "execute_result",
          "data": {
            "text/plain": [
              "Year\n",
              "2008    8.950000\n",
              "2011    8.866667\n",
              "2013    8.700000\n",
              "2017    8.550000\n",
              "2016    8.566667\n",
              "2005    8.825000\n",
              "2010    8.650000\n",
              "2019    8.575000\n",
              "1994    8.900000\n",
              "2015    8.650000\n",
              "2002    9.150000\n",
              "2014    8.950000\n",
              "2001    9.400000\n",
              "2004    8.500000\n",
              "1999    9.200000\n",
              "1989    8.700000\n",
              "2009    8.650000\n",
              "1997    8.700000\n",
              "2006    8.600000\n",
              "2007    8.350000\n",
              "Name: IMDB_Rating, dtype: float64"
            ]
          },
          "metadata": {
            "tags": []
          },
          "execution_count": 19
        }
      ]
    },
    {
      "cell_type": "code",
      "metadata": {
        "colab": {
          "base_uri": "https://localhost:8080/",
          "height": 696
        },
        "id": "vNm5o3ovNO5r",
        "outputId": "d56993b2-447d-4c44-8ecc-2c3dd86df7ec"
      },
      "source": [
        "df.groupby('Year')['IMDB_Rating'].agg(['count','mean'])"
      ],
      "execution_count": 16,
      "outputs": [
        {
          "output_type": "execute_result",
          "data": {
            "text/html": [
              "<div>\n",
              "<style scoped>\n",
              "    .dataframe tbody tr th:only-of-type {\n",
              "        vertical-align: middle;\n",
              "    }\n",
              "\n",
              "    .dataframe tbody tr th {\n",
              "        vertical-align: top;\n",
              "    }\n",
              "\n",
              "    .dataframe thead th {\n",
              "        text-align: right;\n",
              "    }\n",
              "</style>\n",
              "<table border=\"1\" class=\"dataframe\">\n",
              "  <thead>\n",
              "    <tr style=\"text-align: right;\">\n",
              "      <th></th>\n",
              "      <th>count</th>\n",
              "      <th>mean</th>\n",
              "    </tr>\n",
              "    <tr>\n",
              "      <th>Year</th>\n",
              "      <th></th>\n",
              "      <th></th>\n",
              "    </tr>\n",
              "  </thead>\n",
              "  <tbody>\n",
              "    <tr>\n",
              "      <th>1989</th>\n",
              "      <td>1</td>\n",
              "      <td>8.700000</td>\n",
              "    </tr>\n",
              "    <tr>\n",
              "      <th>1994</th>\n",
              "      <td>1</td>\n",
              "      <td>8.900000</td>\n",
              "    </tr>\n",
              "    <tr>\n",
              "      <th>1997</th>\n",
              "      <td>1</td>\n",
              "      <td>8.700000</td>\n",
              "    </tr>\n",
              "    <tr>\n",
              "      <th>1999</th>\n",
              "      <td>1</td>\n",
              "      <td>9.200000</td>\n",
              "    </tr>\n",
              "    <tr>\n",
              "      <th>2001</th>\n",
              "      <td>1</td>\n",
              "      <td>9.400000</td>\n",
              "    </tr>\n",
              "    <tr>\n",
              "      <th>2002</th>\n",
              "      <td>2</td>\n",
              "      <td>9.150000</td>\n",
              "    </tr>\n",
              "    <tr>\n",
              "      <th>2004</th>\n",
              "      <td>2</td>\n",
              "      <td>8.500000</td>\n",
              "    </tr>\n",
              "    <tr>\n",
              "      <th>2005</th>\n",
              "      <td>4</td>\n",
              "      <td>8.825000</td>\n",
              "    </tr>\n",
              "    <tr>\n",
              "      <th>2006</th>\n",
              "      <td>1</td>\n",
              "      <td>8.600000</td>\n",
              "    </tr>\n",
              "    <tr>\n",
              "      <th>2007</th>\n",
              "      <td>2</td>\n",
              "      <td>8.350000</td>\n",
              "    </tr>\n",
              "    <tr>\n",
              "      <th>2008</th>\n",
              "      <td>2</td>\n",
              "      <td>8.950000</td>\n",
              "    </tr>\n",
              "    <tr>\n",
              "      <th>2009</th>\n",
              "      <td>4</td>\n",
              "      <td>8.650000</td>\n",
              "    </tr>\n",
              "    <tr>\n",
              "      <th>2010</th>\n",
              "      <td>2</td>\n",
              "      <td>8.650000</td>\n",
              "    </tr>\n",
              "    <tr>\n",
              "      <th>2011</th>\n",
              "      <td>3</td>\n",
              "      <td>8.866667</td>\n",
              "    </tr>\n",
              "    <tr>\n",
              "      <th>2013</th>\n",
              "      <td>6</td>\n",
              "      <td>8.700000</td>\n",
              "    </tr>\n",
              "    <tr>\n",
              "      <th>2014</th>\n",
              "      <td>2</td>\n",
              "      <td>8.950000</td>\n",
              "    </tr>\n",
              "    <tr>\n",
              "      <th>2015</th>\n",
              "      <td>4</td>\n",
              "      <td>8.650000</td>\n",
              "    </tr>\n",
              "    <tr>\n",
              "      <th>2016</th>\n",
              "      <td>3</td>\n",
              "      <td>8.566667</td>\n",
              "    </tr>\n",
              "    <tr>\n",
              "      <th>2017</th>\n",
              "      <td>4</td>\n",
              "      <td>8.550000</td>\n",
              "    </tr>\n",
              "    <tr>\n",
              "      <th>2019</th>\n",
              "      <td>4</td>\n",
              "      <td>8.575000</td>\n",
              "    </tr>\n",
              "  </tbody>\n",
              "</table>\n",
              "</div>"
            ],
            "text/plain": [
              "      count      mean\n",
              "Year                 \n",
              "1989      1  8.700000\n",
              "1994      1  8.900000\n",
              "1997      1  8.700000\n",
              "1999      1  9.200000\n",
              "2001      1  9.400000\n",
              "2002      2  9.150000\n",
              "2004      2  8.500000\n",
              "2005      4  8.825000\n",
              "2006      1  8.600000\n",
              "2007      2  8.350000\n",
              "2008      2  8.950000\n",
              "2009      4  8.650000\n",
              "2010      2  8.650000\n",
              "2011      3  8.866667\n",
              "2013      6  8.700000\n",
              "2014      2  8.950000\n",
              "2015      4  8.650000\n",
              "2016      3  8.566667\n",
              "2017      4  8.550000\n",
              "2019      4  8.575000"
            ]
          },
          "metadata": {
            "tags": []
          },
          "execution_count": 16
        }
      ]
    },
    {
      "cell_type": "code",
      "metadata": {
        "colab": {
          "base_uri": "https://localhost:8080/",
          "height": 282
        },
        "id": "vClt3vCQQGfV",
        "outputId": "f2170706-d947-4418-c189-835b9c1bda35"
      },
      "source": [
        "plt.plot(df.groupby('Year').count()['Titles'])"
      ],
      "execution_count": 30,
      "outputs": [
        {
          "output_type": "execute_result",
          "data": {
            "text/plain": [
              "[<matplotlib.lines.Line2D at 0x7fbe614b6850>]"
            ]
          },
          "metadata": {
            "tags": []
          },
          "execution_count": 30
        },
        {
          "output_type": "display_data",
          "data": {
            "image/png": "[encoded data removed]",
            "text/plain": [
              "<Figure size 432x288 with 1 Axes>"
            ]
          },
          "metadata": {
            "tags": [],
            "needs_background": "light"
          }
        }
      ]
    }
  ]
}