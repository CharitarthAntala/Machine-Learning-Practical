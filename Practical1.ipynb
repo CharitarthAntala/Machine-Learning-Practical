{
  "nbformat": 4,
  "nbformat_minor": 0,
  "metadata": {
    "colab": {
      "name": "Practical1.ipynb",
      "provenance": [],
      "collapsed_sections": []
    },
    "kernelspec": {
      "name": "python3",
      "display_name": "Python 3"
    },
    "language_info": {
      "name": "python"
    }
  },
  "cells": [
    {
      "cell_type": "code",
      "metadata": {
        "colab": {
          "base_uri": "https://localhost:8080/"
        },
        "id": "2ttD9pLLK446",
        "outputId": "ebd16fa4-656d-4073-b744-b69efa248eff"
      },
      "source": [
        "def encryption(msg, key):  \n",
        "    cypher = \"\"  \n",
        "  \n",
        "  \n",
        "# plain text full recieve   \n",
        "    for i in range(len(msg)):  \n",
        "        char = msg[i]  \n",
        "      \n",
        "        #encryption for uppercase\n",
        "        if (char.isupper()):  \n",
        "            result += chr((ord(char) + key - 65) % 26 + 65)  \n",
        "        # encyption for lowercase  \n",
        "        else:  \n",
        "            result += chr((ord(char) + key - 97) % 26 + 97)  \n",
        "    return result  \n",
        "# check the above function  \n",
        "msg = input(\"Enter Plain Text : \")  \n",
        "key = int(input(\"Enter Key : \"))\n",
        "  \n",
        "print(\"Plain text : \" + msg)  \n",
        "print(\"Key for shift : \" + str(key))  \n",
        "print(\"Cipher text: \" + enc(msg, key))"
      ],
      "execution_count": 40,
      "outputs": [
        {
          "output_type": "stream",
          "text": [
            "Enter Plain Text : ABC\n",
            "Enter Key : 3\n",
            "Plain text : ABC\n",
            "Key for shift : 3\n",
            "Cipher text: DEF\n"
          ],
          "name": "stdout"
        }
      ]
    }
  ]
}