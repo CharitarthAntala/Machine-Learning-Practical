{
  "nbformat": 4,
  "nbformat_minor": 5,
  "metadata": {
    "kernelspec": {
      "display_name": "Python 3",
      "language": "python",
      "name": "python3"
    },
    "language_info": {
      "codemirror_mode": {
        "name": "ipython",
        "version": 3
      },
      "file_extension": ".py",
      "mimetype": "text/x-python",
      "name": "python",
      "nbconvert_exporter": "python",
      "pygments_lexer": "ipython3",
      "version": "3.9.1"
    },
    "colab": {
      "name": "numpy_methods",
      "provenance": [],
      "collapsed_sections": [],
      "include_colab_link": true
    }
  },
  "cells": [
    {
      "cell_type": "markdown",
      "metadata": {
        "id": "view-in-github",
        "colab_type": "text"
      },
      "source": [
        "<a href=\"https://colab.research.google.com/github/CharitarthAntala/Machine-Learning-Practical/blob/main/numpy_methods.ipynb\" target=\"_parent\"><img src=\"https://colab.research.google.com/assets/colab-badge.svg\" alt=\"Open In Colab\"/></a>"
      ]
    },
    {
      "cell_type": "code",
      "metadata": {
        "id": "5f0e9cd5-d5de-4e44-a8d1-3fd174fa2472",
        "outputId": "414422cf-d9cd-4824-8344-13803aab718a"
      },
      "source": [
        "import numpy as np\n",
        "\n",
        "arr = np.array([1, 2, 3, 4, 5, 6, 7, 8, 9, 10, 11, 12, 15, 78 ,45 ,85])\n",
        "str = np.array(['hello world'])\n",
        "\n",
        "newarr = arr.reshape(4, 4)\n",
        "\n",
        "print(\"\\nreshape():\\n\",newarr)"
      ],
      "id": "5f0e9cd5-d5de-4e44-a8d1-3fd174fa2472",
      "execution_count": null,
      "outputs": [
        {
          "output_type": "stream",
          "text": [
            "\n",
            "reshape():\n",
            " [[ 1  2  3  4]\n",
            " [ 5  6  7  8]\n",
            " [ 9 10 11 12]\n",
            " [15 78 45 85]]\n"
          ],
          "name": "stdout"
        }
      ]
    },
    {
      "cell_type": "code",
      "metadata": {
        "id": "786576d0-689e-42cc-ac9a-045c8f11cf46",
        "outputId": "1c5916d6-47b3-48aa-8686-9c9cc0685fbd"
      },
      "source": [
        "print(\"\\nravel():\\n\", newarr.ravel())"
      ],
      "id": "786576d0-689e-42cc-ac9a-045c8f11cf46",
      "execution_count": null,
      "outputs": [
        {
          "output_type": "stream",
          "text": [
            "\n",
            "ravel():\n",
            " [ 1  2  3  4  5  6  7  8  9 10 11 12 15 78 45 85]\n"
          ],
          "name": "stdout"
        }
      ]
    },
    {
      "cell_type": "code",
      "metadata": {
        "id": "d09b9571-d840-4239-8daa-5ed557046e83",
        "outputId": "ee179262-4e69-4d6f-c5c4-d7087a3fc95a"
      },
      "source": [
        "print(\"\\nflatten():\\n\", newarr.flatten())"
      ],
      "id": "d09b9571-d840-4239-8daa-5ed557046e83",
      "execution_count": null,
      "outputs": [
        {
          "output_type": "stream",
          "text": [
            "\n",
            "flatten():\n",
            " [ 1  2  3  4  5  6  7  8  9 10 11 12 15 78 45 85]\n"
          ],
          "name": "stdout"
        }
      ]
    },
    {
      "cell_type": "code",
      "metadata": {
        "id": "a09b23bf-3caf-412b-8791-dcef31da3993",
        "outputId": "82226681-5377-4870-9923-0a738fa2848d"
      },
      "source": [
        "movAxis = np.moveaxis(newarr, 0, -1)\n",
        "print(\"\\nmoveaxis():\\n\", movAxis)"
      ],
      "id": "a09b23bf-3caf-412b-8791-dcef31da3993",
      "execution_count": null,
      "outputs": [
        {
          "output_type": "stream",
          "text": [
            "\n",
            "moveaxis():\n",
            " [[ 1  5  9 15]\n",
            " [ 2  6 10 78]\n",
            " [ 3  7 11 45]\n",
            " [ 4  8 12 85]]\n"
          ],
          "name": "stdout"
        }
      ]
    },
    {
      "cell_type": "code",
      "metadata": {
        "id": "a3ae1f3b-7e41-4b84-b172-ea98ef7aaccd",
        "outputId": "124b6375-ed81-49d2-9c73-4d086faa9c33"
      },
      "source": [
        "print(\"\\nroll():\\n\", np.roll(newarr, 1))"
      ],
      "id": "a3ae1f3b-7e41-4b84-b172-ea98ef7aaccd",
      "execution_count": null,
      "outputs": [
        {
          "output_type": "stream",
          "text": [
            "\n",
            "roll():\n",
            " [[85  1  2  3]\n",
            " [ 4  5  6  7]\n",
            " [ 8  9 10 11]\n",
            " [12 15 78 45]]\n"
          ],
          "name": "stdout"
        }
      ]
    },
    {
      "cell_type": "code",
      "metadata": {
        "id": "e4290593-e888-485e-82b0-c4e4ebd5a861",
        "outputId": "922ba7df-d295-43a0-8eb6-372201e25fd5"
      },
      "source": [
        "print(\"\\ntranspose():\\n\", newarr.transpose())"
      ],
      "id": "e4290593-e888-485e-82b0-c4e4ebd5a861",
      "execution_count": null,
      "outputs": [
        {
          "output_type": "stream",
          "text": [
            "\n",
            "transpose():\n",
            " [[ 1  5  9 15]\n",
            " [ 2  6 10 78]\n",
            " [ 3  7 11 45]\n",
            " [ 4  8 12 85]]\n"
          ],
          "name": "stdout"
        }
      ]
    },
    {
      "cell_type": "code",
      "metadata": {
        "id": "dcfb7f6d-332a-4696-a9da-b62cf46a570d",
        "outputId": "763c85a4-7bf3-47c5-db31-cd6877dec86f"
      },
      "source": [
        "splitArr = np.array_split(arr, 3)\n",
        "print(\"\\nsplit():\\n\",splitArr)"
      ],
      "id": "dcfb7f6d-332a-4696-a9da-b62cf46a570d",
      "execution_count": null,
      "outputs": [
        {
          "output_type": "stream",
          "text": [
            "\n",
            "split():\n",
            " [array([1, 2, 3, 4, 5, 6]), array([ 7,  8,  9, 10, 11]), array([12, 15, 78, 45, 85])]\n"
          ],
          "name": "stdout"
        }
      ]
    },
    {
      "cell_type": "code",
      "metadata": {
        "id": "bf983dc5-ff94-4ec6-aede-7bb4ac4df8fb",
        "outputId": "a134f536-c95f-4fa4-9322-e67aa72dbfb8"
      },
      "source": [
        "dsplit =arr.reshape (2,2,4)\n",
        "print(\"\\ndplit():\\n\",np.dsplit(dsplit,4))"
      ],
      "id": "bf983dc5-ff94-4ec6-aede-7bb4ac4df8fb",
      "execution_count": null,
      "outputs": [
        {
          "output_type": "stream",
          "text": [
            "\n",
            "dplit():\n",
            " [array([[[ 1],\n",
            "        [ 5]],\n",
            "\n",
            "       [[ 9],\n",
            "        [15]]]), array([[[ 2],\n",
            "        [ 6]],\n",
            "\n",
            "       [[10],\n",
            "        [78]]]), array([[[ 3],\n",
            "        [ 7]],\n",
            "\n",
            "       [[11],\n",
            "        [45]]]), array([[[ 4],\n",
            "        [ 8]],\n",
            "\n",
            "       [[12],\n",
            "        [85]]])]\n"
          ],
          "name": "stdout"
        }
      ]
    },
    {
      "cell_type": "code",
      "metadata": {
        "id": "0d6b442f-3dce-429a-ab93-43e4f7f301bb",
        "outputId": "2705fbc4-e457-480f-9f9f-6d7283138c96"
      },
      "source": [
        "print(\"\\nhplit():\\n\",np.hsplit(dsplit,2))"
      ],
      "id": "0d6b442f-3dce-429a-ab93-43e4f7f301bb",
      "execution_count": null,
      "outputs": [
        {
          "output_type": "stream",
          "text": [
            "\n",
            "hplit():\n",
            " [array([[[ 1,  2,  3,  4]],\n",
            "\n",
            "       [[ 9, 10, 11, 12]]]), array([[[ 5,  6,  7,  8]],\n",
            "\n",
            "       [[15, 78, 45, 85]]])]\n"
          ],
          "name": "stdout"
        }
      ]
    },
    {
      "cell_type": "code",
      "metadata": {
        "id": "354cc32c-47bc-487a-9820-72b18828d2df",
        "outputId": "de113be6-8921-4098-a917-00bb18017aa3"
      },
      "source": [
        "print(\"\\nvplit():\\n\",np.vsplit(dsplit,2))"
      ],
      "id": "354cc32c-47bc-487a-9820-72b18828d2df",
      "execution_count": null,
      "outputs": [
        {
          "output_type": "stream",
          "text": [
            "\n",
            "vplit():\n",
            " [array([[[1, 2, 3, 4],\n",
            "        [5, 6, 7, 8]]]), array([[[ 9, 10, 11, 12],\n",
            "        [15, 78, 45, 85]]])]\n"
          ],
          "name": "stdout"
        }
      ]
    },
    {
      "cell_type": "code",
      "metadata": {
        "id": "c413deb4-bce5-4168-9acf-dd5b721149a4",
        "outputId": "73fd7ce7-9e10-47d7-ba91-08054967bc37"
      },
      "source": [
        "print(\"\\ninsert():\\n\",np.insert(arr, 1, 9))"
      ],
      "id": "c413deb4-bce5-4168-9acf-dd5b721149a4",
      "execution_count": null,
      "outputs": [
        {
          "output_type": "stream",
          "text": [
            "\n",
            "insert():\n",
            " [ 1  9  2  3  4  5  6  7  8  9 10 11 12 15 78 45 85]\n"
          ],
          "name": "stdout"
        }
      ]
    },
    {
      "cell_type": "code",
      "metadata": {
        "id": "6bb9125b-c7b8-4b87-903a-40c9d5a2c984",
        "outputId": "85a8ebf1-e0dd-4b45-e157-47045340fd5f"
      },
      "source": [
        "print(\"\\ndelete():\\n\",np.delete(arr, 9))"
      ],
      "id": "6bb9125b-c7b8-4b87-903a-40c9d5a2c984",
      "execution_count": null,
      "outputs": [
        {
          "output_type": "stream",
          "text": [
            "\n",
            "delete():\n",
            " [ 1  2  3  4  5  6  7  8  9 11 12 15 78 45 85]\n"
          ],
          "name": "stdout"
        }
      ]
    },
    {
      "cell_type": "code",
      "metadata": {
        "id": "63b95b4a-91d9-4ef2-801d-ba1133a28f00",
        "outputId": "26a39301-3431-47cd-8c46-5face2705f89"
      },
      "source": [
        "print(\"\\nappend():\\n\",np.append(arr, str))"
      ],
      "id": "63b95b4a-91d9-4ef2-801d-ba1133a28f00",
      "execution_count": null,
      "outputs": [
        {
          "output_type": "stream",
          "text": [
            "\n",
            "append():\n",
            " ['1' '2' '3' '4' '5' '6' '7' '8' '9' '10' '11' '12' '15' '78' '45' '85'\n",
            " 'hello world']\n"
          ],
          "name": "stdout"
        }
      ]
    },
    {
      "cell_type": "code",
      "metadata": {
        "id": "0bcc69de-bdce-4dd0-9e3a-9e37705d4263",
        "outputId": "24cbbbf0-fc6e-4201-c408-c38f9a0e510e"
      },
      "source": [
        "uniq = np.array([1, 2, 3, 4, 5, 6, 7, 8, 9,9,9, 10, 11, 12, 15, 78 ,45 ,85])\n",
        "print(\"\\nunique():\\n\",np.unique(arr))"
      ],
      "id": "0bcc69de-bdce-4dd0-9e3a-9e37705d4263",
      "execution_count": null,
      "outputs": [
        {
          "output_type": "stream",
          "text": [
            "\n",
            "unique():\n",
            " [ 1  2  3  4  5  6  7  8  9 10 11 12 15 45 78 85]\n"
          ],
          "name": "stdout"
        }
      ]
    },
    {
      "cell_type": "code",
      "metadata": {
        "id": "b0503330-4170-4b99-8c43-12dcaaf5227f",
        "outputId": "56271e66-3097-4ce2-fa78-75fea4e3966b"
      },
      "source": [
        "print(\"\\nflip():\\n\",np.flip(newarr, 0))"
      ],
      "id": "b0503330-4170-4b99-8c43-12dcaaf5227f",
      "execution_count": null,
      "outputs": [
        {
          "output_type": "stream",
          "text": [
            "\n",
            "flip():\n",
            " [[15 78 45 85]\n",
            " [ 9 10 11 12]\n",
            " [ 5  6  7  8]\n",
            " [ 1  2  3  4]]\n"
          ],
          "name": "stdout"
        }
      ]
    },
    {
      "cell_type": "code",
      "metadata": {
        "id": "0adf31c5-5975-489f-9914-1307ec4fc040",
        "outputId": "db2a20ee-7a6f-4a99-b36f-e0588d9ac3a8"
      },
      "source": [
        "print(\"\\nfliplr():\\n\",np.fliplr(newarr))"
      ],
      "id": "0adf31c5-5975-489f-9914-1307ec4fc040",
      "execution_count": null,
      "outputs": [
        {
          "output_type": "stream",
          "text": [
            "\n",
            "fliplr():\n",
            " [[ 4  3  2  1]\n",
            " [ 8  7  6  5]\n",
            " [12 11 10  9]\n",
            " [85 45 78 15]]\n"
          ],
          "name": "stdout"
        }
      ]
    },
    {
      "cell_type": "code",
      "metadata": {
        "id": "89b14b16-9aa1-41e3-b99b-0e39562cddae",
        "outputId": "c6f4eaa6-fe18-4b24-f0ea-9152fb948b98"
      },
      "source": [
        "print(\"\\nfliplr():\\n\",np.flipud(newarr))"
      ],
      "id": "89b14b16-9aa1-41e3-b99b-0e39562cddae",
      "execution_count": null,
      "outputs": [
        {
          "output_type": "stream",
          "text": [
            "\n",
            "fliplr():\n",
            " [[15 78 45 85]\n",
            " [ 9 10 11 12]\n",
            " [ 5  6  7  8]\n",
            " [ 1  2  3  4]]\n"
          ],
          "name": "stdout"
        }
      ]
    },
    {
      "cell_type": "code",
      "metadata": {
        "id": "a072e8ed-16b4-485f-827a-a9cb5455ebed",
        "outputId": "75cc827e-fbf0-4a92-9395-42a7c93ffeda"
      },
      "source": [
        "print(\"\\nrot90():\\n\",np.rot90(newarr))"
      ],
      "id": "a072e8ed-16b4-485f-827a-a9cb5455ebed",
      "execution_count": null,
      "outputs": [
        {
          "output_type": "stream",
          "text": [
            "\n",
            "rot90():\n",
            " [[ 4  8 12 85]\n",
            " [ 3  7 11 45]\n",
            " [ 2  6 10 78]\n",
            " [ 1  5  9 15]]\n"
          ],
          "name": "stdout"
        }
      ]
    },
    {
      "cell_type": "code",
      "metadata": {
        "id": "bbbffb83-c533-46a7-9ccb-19d57feee967"
      },
      "source": [
        "file1 = open(\"BE SEM 7 ML/files/file.txt\",\"r\")\n",
        "fileData = file1.read()\n",
        "occurrences = fileData.count(\"hello\")\n",
        "print(occurrences)"
      ],
      "id": "bbbffb83-c533-46a7-9ccb-19d57feee967",
      "execution_count": null,
      "outputs": []
    }
  ]
}